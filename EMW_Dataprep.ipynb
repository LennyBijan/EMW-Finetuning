{
  "cells": [
    {
      "cell_type": "markdown",
      "metadata": {
        "id": "view-in-github",
        "colab_type": "text"
      },
      "source": [
        "<a href=\"https://colab.research.google.com/github/LennyBijan/EMW-Finetuning/blob/main/EMW_Dataprep.ipynb\" target=\"_parent\"><img src=\"https://colab.research.google.com/assets/colab-badge.svg\" alt=\"Open In Colab\"/></a>"
      ]
    },
    {
      "cell_type": "markdown",
      "source": [
        "# Necessary pip installs"
      ],
      "metadata": {
        "id": "EGpU8QFDRQYs"
      }
    },
    {
      "cell_type": "code",
      "source": [
        "!pip install wandb -qU"
      ],
      "metadata": {
        "id": "m_9wGqVTRWJ8"
      },
      "execution_count": null,
      "outputs": []
    },
    {
      "cell_type": "code",
      "execution_count": null,
      "metadata": {
        "id": "XCyOTZd96GsX"
      },
      "outputs": [],
      "source": [
        "pip install tiktoken"
      ]
    },
    {
      "cell_type": "code",
      "source": [
        "!pip install openai"
      ],
      "metadata": {
        "id": "O1KTcukWRbl2"
      },
      "execution_count": null,
      "outputs": []
    },
    {
      "cell_type": "markdown",
      "source": [
        "# Dataset Validation & Pricing"
      ],
      "metadata": {
        "id": "CIIpGdM0JMLK"
      }
    },
    {
      "cell_type": "code",
      "execution_count": null,
      "metadata": {
        "id": "BM8qDfnV696T"
      },
      "outputs": [],
      "source": [
        "import json\n",
        "import tiktoken # for token counting\n",
        "import numpy as np\n",
        "from collections import defaultdict"
      ]
    },
    {
      "cell_type": "code",
      "execution_count": 106,
      "metadata": {
        "id": "2lXjHOWl7kZr",
        "colab": {
          "base_uri": "https://localhost:8080/"
        },
        "outputId": "586b2d33-b68b-4395-d6f7-31a6d10273d7"
      },
      "outputs": [
        {
          "output_type": "stream",
          "name": "stdout",
          "text": [
            "Num examples: 10\n",
            "First example:\n",
            "{'role': 'system', 'content': 'Du bist ein Weiser alter Mann, der Kindern liebend gerne Geschichten erzählt. Die Kinder geben dir immer Ideen, anhand denen du moralisch Wertolle Geschichten kreierst.'}\n",
            "{'role': 'user', 'content': 'Hi alter Weiser Mann, kannst du mir eine Geschichte über Kater Leo erzählen der gerne Waffeln backt?'}\n",
            "{'role': 'assistant', 'content': 'An einem Sonntag erwartete die Familie von Kater Leo Besuch. Leo genoss es jedes Mal sehr, wenn Gäste zu ihnen kamen. Dann wurde gespielt und geschmust und Leo stand den ganzen Tag im Mittelpunkt. Wenn er Glück hatte, fand sich jemand und kraulte ihm stundenlang den Kopf. An diesem Tag roch es in der Küche köstlich. Der Teig für die Waffeln wurde zubereitet. Der Kater liebte vor allem die Milch, die in den Teig kam. Er konnte sie schon von weitem schnuppern. Leo war ein sehr aufmerksamer Beobachter. Ihm entging so schnell nichts. So war es auch an diesem Tag. Er setzte sich auf die Fliesen in der Küche und verfolgte genau den Ablauf der Vorbereitungen. Er hoffte natürlich immer, dass er etwas abbekam. Vielleicht fiel auch etwas herunter, was er dann aufschlecken könnte? Aber nein, diesmal nicht. Wie schade! Dabei hätte er so gerne ein bisschen von der Milch probiert. Leos Familie achtete immer sehr genau darauf, dass der Kater nur zu bestimmten Uhrzeiten sein Futter bekam. „Er könnte ja zu dick werden!“, dachte die Familie. Als die leckeren Waffeln fertig waren, wurden sie mit Puderzucker bestreut und den Gästen serviert. Leo mochte gern süße Sachen und lief der Reihe nach zu allen Gästen. Dabei miaute er ganz freundlich, um vielleicht doch noch etwas abzubekommen. Aber alle hielten sich an die Regel, dass der Kater nicht zwischendurch gefüttert werden durfte. Also schnupperte er nur den köstlichen Duft ein und zog sich aufs Sofa zurück. Plötzlich kam ihm eine Idee. Er würde einfach den nächsten Tag abwarten und wenn alle zur Arbeit gingen, hätte er die ganze Küche für sich allein. Dann könnte er machen was er wollte. Dieser Gedanke ließ ihn nicht mehr los und er konnte vor Aufregung kaum schlafen. Am nächsten Morgen verabschiedete sich die Familie von Leo und wünschte ihm einen schönen Tag. Wie immer sagten sie ihm zum Abschied: „Sei schön brav und bis heute Abend!” „Miau”, sagte Leo dann immer, was bedeutete „Na klar doch“. Nachdem die Tür ins Schloss fiel, machte sich Leo sofort ans Werk. „Das werde ich jetzt einmal allein ausprobieren“, dachte er sich. Leo holte sich eine Schürze, wie sein Herrchen das immer machte, und band sie sich um. „Los geht es!“ „Eine Schüssel brauche ich, aber die ist ganz oben im Schrank. Also muss eine Leiter her!”, dachte er sich. „Puuhh, wie anstrengend!“, meckerte Leo. Er nahm Mehl, Zucker, Butter, Eier, Milch und eine Prise Salz. „Gut, dass ich gestern so genau zugeschaut habe. Bei den Anderen sieht es so viel einfacher aus.“ Zum Glück standen das Waffeleisen und der Mixer noch auf der Arbeitsplatte, ganz sauber und glänzend. „Umso besser!“, dachte sich Leo. Nun hatte der Kater alles zu einem Teig vermischt. Er war sichtlich stolz auf das Ergebnis, bis er sah, dass das Mehl die ganze Arbeitsfläche vollgestaubt hatte. Plötzlich juckte es in seiner Nase. Oh Nein! Haaaatschiiiiiiiiie!, Leo musste kräftig niesen und an seinem Schnurrbart klebte Teig und ganz viel Mehl. Jetzt war auch noch der ganze Fußboden voll mit Zucker und Mehl. „Miau, das räume ich später auf”, dachte der Kater. Er schnappte sich den Mixer und fing an den Teig mit dem Schneebesen zu verrühren. „Oh je, das spritzt aber ziemlich doll!” Leo war nun von Teigspritzern übersäht, aber er leckte sie einfach ab und machte fleißig weiter. Er probierte mit seiner Pfote den Teig. „Miau, etwas mehr Zucker wäre gut”, dachte er. Und so probierte Leo immer wieder, bis ihm der Teig gut schmeckte und schön süß war. Jetzt war es an der Zeit, das Waffeleisen anzuschalten. Er schöpfte mit der Kelle den Teig hinein, war sich aber nicht mehr sicher, wie viel er nehmen musste. Der Teig quoll nach einigen Sekunden aus dem Gerät und kleckerte auf die Arbeitsplatte. „Egal!“, dachte sich Leo. Die erste Waffel habe ich fertig. Etwas angebrannt war sie, aber Leo verspeiste sie mit Genuss. Und so ging es weiter, bis sich der Kater an den Bauch fasste und krümmte. „Miau, von den vielen Waffeln tut mir mein Bauch weh und etwas übel ist mir auch”, jammerte er. „Ich muss mich jetzt etwas ausruhen und dann räume ich auf.” Er kletterte mit letzter Kraft auf seinen Kratzbaum, aber konnte sich kaum entspannen. Er schaute auf die Küchenuhr und miaute: „Miau, es ist gleich 17:00 Uhr!“ Es half alles nichts, er musste aufräumen bis die Familie nach Hause kam. Mit schrecklichen Bauchschmerzen spülte er das ganze Geschirr im Spülbecken ab und räumte es weg. Er wischte den Boden mit einem Feudel und rieb mit seinem Schwanz hinterher. Doch es klebte immer noch alles furchtbar stark. Kaum war er fertig, hörte er auch schon den Schlüssel im Schloss und sah die Tür aufgehen. Das Frauchen rief wie immer nach Leo und sagte ganz überrascht: „Hier riecht es aber lecker nach Waffeln.” Sie wollte den Kater füttern, der sonst gar nicht genug von seinem Futter bekommen konnte, aber heute wollte Leo nichts mehr essen. Er war so erschöpft und sein Bauch war von all dem Zucker ganz verklebt. Das Frauchen kraulte Leo hinter den Ohren und meinte: „Du klebst ja überall, was hast du denn heute wieder angestellt? Geht es dir heute nicht so gut, Leo? Ich glaube, du solltest heute etwas eher schlafen gehen und dich ausruhen.” „Miau, miau, miau”, schaffte Leo grade noch zu sagen und sprang schnell in sein Schlafkörbchen. „So etwas mache ich nie wieder”, dachte er und schlief sofort ein.'}\n"
          ]
        }
      ],
      "source": [
        "data_path = \"test_data.jsonl\"\n",
        "\n",
        "# Load the dataset\n",
        "with open(data_path, 'r', encoding='utf-8') as f:\n",
        "    dataset = [json.loads(line) for line in f]\n",
        "\n",
        "# Initial dataset stats\n",
        "print(\"Num examples:\", len(dataset))\n",
        "print(\"First example:\")\n",
        "for message in dataset[0][\"messages\"]:\n",
        "    print(message)"
      ]
    },
    {
      "cell_type": "code",
      "execution_count": 104,
      "metadata": {
        "id": "qv54doUtb2Aa",
        "colab": {
          "base_uri": "https://localhost:8080/"
        },
        "outputId": "d11a5d58-80d9-4847-e6c4-eeb9c30f073d"
      },
      "outputs": [
        {
          "output_type": "stream",
          "name": "stdout",
          "text": [
            "No errors found\n"
          ]
        }
      ],
      "source": [
        "# Format error checks\n",
        "format_errors = defaultdict(int)\n",
        "\n",
        "for ex in dataset:\n",
        "    if not isinstance(ex, dict):\n",
        "        format_errors[\"data_type\"] += 1\n",
        "        continue\n",
        "\n",
        "    messages = ex.get(\"messages\", None)\n",
        "    if not messages:\n",
        "        format_errors[\"missing_messages_list\"] += 1\n",
        "        continue\n",
        "\n",
        "    for message in messages:\n",
        "        if \"role\" not in message or \"content\" not in message:\n",
        "            format_errors[\"message_missing_key\"] += 1\n",
        "\n",
        "        if any(k not in (\"role\", \"content\", \"name\", \"function_call\", \"weight\") for k in message):\n",
        "            format_errors[\"message_unrecognized_key\"] += 1\n",
        "\n",
        "        if message.get(\"role\", None) not in (\"system\", \"user\", \"assistant\", \"function\"):\n",
        "            format_errors[\"unrecognized_role\"] += 1\n",
        "\n",
        "        content = message.get(\"content\", None)\n",
        "        function_call = message.get(\"function_call\", None)\n",
        "\n",
        "        if (not content and not function_call) or not isinstance(content, str):\n",
        "            format_errors[\"missing_content\"] += 1\n",
        "\n",
        "    if not any(message.get(\"role\", None) == \"assistant\" for message in messages):\n",
        "        format_errors[\"example_missing_assistant_message\"] += 1\n",
        "\n",
        "if format_errors:\n",
        "    print(\"Found errors:\")\n",
        "    for k, v in format_errors.items():\n",
        "        print(f\"{k}: {v}\")\n",
        "else:\n",
        "    print(\"No errors found\")"
      ]
    },
    {
      "cell_type": "code",
      "execution_count": 108,
      "metadata": {
        "id": "jJ48FTw8cO3j"
      },
      "outputs": [],
      "source": [
        "encoding = tiktoken.get_encoding(\"cl100k_base\")\n",
        "\n",
        "# not exact!\n",
        "# simplified from https://github.com/openai/openai-cookbook/blob/main/examples/How_to_count_tokens_with_tiktoken.ipynb\n",
        "def num_tokens_from_messages(messages, tokens_per_message=3, tokens_per_name=1):\n",
        "    num_tokens = 0\n",
        "    for message in messages:\n",
        "        num_tokens += tokens_per_message\n",
        "        for key, value in message.items():\n",
        "            num_tokens += len(encoding.encode(value))\n",
        "            if key == \"name\":\n",
        "                num_tokens += tokens_per_name\n",
        "    num_tokens += 3\n",
        "    return num_tokens\n",
        "\n",
        "def num_assistant_tokens_from_messages(messages):\n",
        "    num_tokens = 0\n",
        "    for message in messages:\n",
        "        if message[\"role\"] == \"assistant\":\n",
        "            num_tokens += len(encoding.encode(message[\"content\"]))\n",
        "    return num_tokens\n",
        "\n",
        "def print_distribution(values, name):\n",
        "    print(f\"\\n#### Distribution of {name}:\")\n",
        "    print(f\"min / max: {min(values)}, {max(values)}\")\n",
        "    print(f\"mean / median: {np.mean(values)}, {np.median(values)}\")\n",
        "    print(f\"p5 / p95: {np.quantile(values, 0.1)}, {np.quantile(values, 0.9)}\")\n"
      ]
    },
    {
      "cell_type": "code",
      "execution_count": null,
      "metadata": {
        "id": "toClN-9CcXhe"
      },
      "outputs": [],
      "source": [
        "# Warnings and tokens counts\n",
        "n_missing_system = 0\n",
        "n_missing_user = 0\n",
        "n_messages = []\n",
        "convo_lens = []\n",
        "assistant_message_lens = []\n",
        "\n",
        "for ex in dataset:\n",
        "    messages = ex[\"messages\"]\n",
        "    if not any(message[\"role\"] == \"system\" for message in messages):\n",
        "        n_missing_system += 1\n",
        "    if not any(message[\"role\"] == \"user\" for message in messages):\n",
        "        n_missing_user += 1\n",
        "    n_messages.append(len(messages))\n",
        "    convo_lens.append(num_tokens_from_messages(messages))\n",
        "    assistant_message_lens.append(num_assistant_tokens_from_messages(messages))\n",
        "\n",
        "print(\"Num examples missing system message:\", n_missing_system)\n",
        "print(\"Num examples missing user message:\", n_missing_user)\n",
        "print_distribution(n_messages, \"num_messages_per_example\")\n",
        "print_distribution(convo_lens, \"num_total_tokens_per_example\")\n",
        "print_distribution(assistant_message_lens, \"num_assistant_tokens_per_example\")\n",
        "n_too_long = sum(l > 16385 for l in convo_lens)\n",
        "print(f\"\\n{n_too_long} examples may be over the 16385 token limit, they will be truncated during fine-tuning\")"
      ]
    },
    {
      "cell_type": "code",
      "execution_count": 110,
      "metadata": {
        "id": "UDyivWojcn1z",
        "colab": {
          "base_uri": "https://localhost:8080/"
        },
        "outputId": "cba9a4ac-cbc1-4dac-fd8a-f02f2b3948b0"
      },
      "outputs": [
        {
          "output_type": "stream",
          "name": "stdout",
          "text": [
            "Dataset has ~9488 tokens that will be charged for during training\n",
            "With the current pricing, you will be charged for ~0.076$ for one epoch, and ~0.456$ for a full training run @ ~56928 Tokens\n",
            "Assuming, we scale this dataset to 50 Stories, we will be charged ~4.554$ for a full training run @ ~569280 Tokens\n"
          ]
        }
      ],
      "source": [
        "# Pricing and default n_epochs estimate\n",
        "MAX_TOKENS_PER_EXAMPLE = 16385\n",
        "\n",
        "TARGET_EPOCHS = 6\n",
        "n_epochs = TARGET_EPOCHS\n",
        "n_train_examples = len(dataset)\n",
        "\n",
        "n_billing_tokens_in_dataset = sum(min(MAX_TOKENS_PER_EXAMPLE, length) for length in convo_lens)\n",
        "price = 0.008\n",
        "pricing_model = round(n_billing_tokens_in_dataset/1000*price, 3)\n",
        "pricing_model_full = round(pricing_model * n_epochs, 3)\n",
        "\n",
        "print(f\"Dataset has ~{n_billing_tokens_in_dataset} tokens that will be charged for during training\")\n",
        "print(f\"With the current pricing, you will be charged for ~{pricing_model}$ for one epoch, and ~{pricing_model_full}$ for a full training run @ ~{n_billing_tokens_in_dataset * n_epochs} Tokens\")\n",
        "print(f\"Assuming, we scale this dataset to 50 Stories, we will be charged ~{round(n_billing_tokens_in_dataset*5/1000*price*n_epochs, 3)}$ for a full training run @ ~{n_billing_tokens_in_dataset * 10 * n_epochs} Tokens\")\n"
      ]
    },
    {
      "cell_type": "markdown",
      "source": [
        "# Uploading Dataset"
      ],
      "metadata": {
        "id": "i41QF8v_LE-_"
      }
    },
    {
      "cell_type": "code",
      "source": [
        "from openai import OpenAI\n",
        "\n",
        "client = OpenAI(api_key=\"sk-proj-cx3b5bqmOJ7m7bM3mJlrT3BlbkFJQolWUfMoBmvnNuKsc4iP\")\n",
        "\n",
        "client.files.create(\n",
        "  file=open(\"test_data.jsonl\", \"rb\"),\n",
        "  purpose=\"fine-tune\"\n",
        ")"
      ],
      "metadata": {
        "id": "3yNVPRkYLJP6",
        "colab": {
          "base_uri": "https://localhost:8080/"
        },
        "outputId": "eb16824b-bcf4-4bd4-9b6a-bbfc6b1a2a72"
      },
      "execution_count": 111,
      "outputs": [
        {
          "output_type": "execute_result",
          "data": {
            "text/plain": [
              "FileObject(id='file-2VLWU9HF3I95bBIKwKA3dK9l', bytes=35216, created_at=1714235426, filename='test_data.jsonl', object='file', purpose='fine-tune', status='processed', status_details=None)"
            ]
          },
          "metadata": {},
          "execution_count": 111
        }
      ]
    },
    {
      "cell_type": "code",
      "source": [
        "from openai import OpenAI\n",
        "client = OpenAI(api_key=\"sk-proj-cx3b5bqmOJ7m7bM3mJlrT3BlbkFJQolWUfMoBmvnNuKsc4iP\")\n",
        "\n",
        "client.files.list()\n"
      ],
      "metadata": {
        "colab": {
          "base_uri": "https://localhost:8080/"
        },
        "id": "GmLscu43Ngt4",
        "outputId": "7878bc04-38c9-48eb-864e-ee552ff5b93b"
      },
      "execution_count": 118,
      "outputs": [
        {
          "output_type": "execute_result",
          "data": {
            "text/plain": [
              "SyncPage[FileObject](data=[FileObject(id='file-2VLWU9HF3I95bBIKwKA3dK9l', bytes=35216, created_at=1714235426, filename='test_data.jsonl', object='file', purpose='fine-tune', status='processed', status_details=None), FileObject(id='file-cIvHaElIrBOR8upF9BZIGbcy', bytes=19229, created_at=1714234222, filename='test_data.jsonl', object='file', purpose='fine-tune', status='processed', status_details=None)], object='list', has_more=False)"
            ]
          },
          "metadata": {},
          "execution_count": 118
        }
      ]
    },
    {
      "cell_type": "markdown",
      "source": [
        "# Create Fine-tuned model"
      ],
      "metadata": {
        "id": "fHyJQEVkPxyN"
      }
    },
    {
      "cell_type": "code",
      "source": [
        "import wandb\n",
        "wandb.login()"
      ],
      "metadata": {
        "colab": {
          "base_uri": "https://localhost:8080/"
        },
        "id": "ULD0Qzk4RvBY",
        "outputId": "84e58f9d-ed6a-426b-f5a4-d7ce0d2290c7"
      },
      "execution_count": 1,
      "outputs": [
        {
          "output_type": "stream",
          "name": "stderr",
          "text": [
            "\u001b[34m\u001b[1mwandb\u001b[0m: Currently logged in as: \u001b[33mlenny-bijan\u001b[0m (\u001b[33mlennybijan\u001b[0m). Use \u001b[1m`wandb login --relogin`\u001b[0m to force relogin\n"
          ]
        },
        {
          "output_type": "execute_result",
          "data": {
            "text/plain": [
              "True"
            ]
          },
          "metadata": {},
          "execution_count": 1
        }
      ]
    },
    {
      "cell_type": "code",
      "source": [
        "from openai import OpenAI\n",
        "client = OpenAI(api_key=\"sk-proj-cx3b5bqmOJ7m7bM3mJlrT3BlbkFJQolWUfMoBmvnNuKsc4iP\")\n",
        "\n",
        "wandb.init(\n",
        "    project=\"EMW Finetuning\",\n",
        "    name=\"EMW-FirstRun\",\n",
        "    tags=[\"v1\"]\n",
        ")\n",
        "\n",
        "client.fine_tuning.jobs.create(\n",
        "  training_file=\"file-2VLWU9HF3I95bBIKwKA3dK9l\",\n",
        "  model=\"gpt-3.5-turbo\",\n",
        "  hyperparameters={\n",
        "    \"n_epochs\":8,\n",
        "    \"learning_rate_multiplier\":0.33\n",
        "  }\n",
        ")"
      ],
      "metadata": {
        "colab": {
          "base_uri": "https://localhost:8080/",
          "height": 320,
          "referenced_widgets": [
            "60f54385404f497a9414a1c96cc55d2b",
            "38f3c450095b4faeb31550ad9e3313fd",
            "1dc6dfd435094b458ae320919afd6a17",
            "dea6913e2e804b2995f527003ab44ec4",
            "bdea30b330ab4c818dd51aa86036e61f",
            "84ec9ec3162b4d8fa7b756b815189368",
            "3953edff36fc446b9e41afbd3b2426b2",
            "509013adb48d4a9e9bba5e0e1b5f7a78"
          ]
        },
        "id": "Qhkjv1vWP2wc",
        "outputId": "660fcc2c-ba3d-46a1-db5f-8041d1b3a5d7"
      },
      "execution_count": 12,
      "outputs": [
        {
          "output_type": "display_data",
          "data": {
            "text/plain": [
              "<IPython.core.display.HTML object>"
            ],
            "text/html": [
              "Finishing last run (ID:mmuwlbh7) before initializing another..."
            ]
          },
          "metadata": {}
        },
        {
          "output_type": "display_data",
          "data": {
            "text/plain": [
              "VBox(children=(Label(value='0.001 MB of 0.010 MB uploaded\\r'), FloatProgress(value=0.10075614366729678, max=1.…"
            ],
            "application/vnd.jupyter.widget-view+json": {
              "version_major": 2,
              "version_minor": 0,
              "model_id": "60f54385404f497a9414a1c96cc55d2b"
            }
          },
          "metadata": {}
        },
        {
          "output_type": "display_data",
          "data": {
            "text/plain": [
              "<IPython.core.display.HTML object>"
            ],
            "text/html": [
              " View run <strong style=\"color:#cdcd00\">gentle-deluge-3</strong> at: <a href='https://wandb.ai/lennybijan/EMW%20Finetuning/runs/mmuwlbh7' target=\"_blank\">https://wandb.ai/lennybijan/EMW%20Finetuning/runs/mmuwlbh7</a><br/> View project at: <a href='https://wandb.ai/lennybijan/EMW%20Finetuning' target=\"_blank\">https://wandb.ai/lennybijan/EMW%20Finetuning</a><br/>Synced 4 W&B file(s), 0 media file(s), 0 artifact file(s) and 0 other file(s)"
            ]
          },
          "metadata": {}
        },
        {
          "output_type": "display_data",
          "data": {
            "text/plain": [
              "<IPython.core.display.HTML object>"
            ],
            "text/html": [
              "Find logs at: <code>./wandb/run-20240427_164037-mmuwlbh7/logs</code>"
            ]
          },
          "metadata": {}
        },
        {
          "output_type": "display_data",
          "data": {
            "text/plain": [
              "<IPython.core.display.HTML object>"
            ],
            "text/html": [
              "Successfully finished last run (ID:mmuwlbh7). Initializing new run:<br/>"
            ]
          },
          "metadata": {}
        },
        {
          "output_type": "display_data",
          "data": {
            "text/plain": [
              "<IPython.core.display.HTML object>"
            ],
            "text/html": [
              "Tracking run with wandb version 0.16.6"
            ]
          },
          "metadata": {}
        },
        {
          "output_type": "display_data",
          "data": {
            "text/plain": [
              "<IPython.core.display.HTML object>"
            ],
            "text/html": [
              "Run data is saved locally in <code>/content/wandb/run-20240427_170057-y2va3o70</code>"
            ]
          },
          "metadata": {}
        },
        {
          "output_type": "display_data",
          "data": {
            "text/plain": [
              "<IPython.core.display.HTML object>"
            ],
            "text/html": [
              "Syncing run <strong><a href='https://wandb.ai/lennybijan/EMW%20Finetuning/runs/y2va3o70' target=\"_blank\">EMW-FirstRun</a></strong> to <a href='https://wandb.ai/lennybijan/EMW%20Finetuning' target=\"_blank\">Weights & Biases</a> (<a href='https://wandb.me/run' target=\"_blank\">docs</a>)<br/>"
            ]
          },
          "metadata": {}
        },
        {
          "output_type": "display_data",
          "data": {
            "text/plain": [
              "<IPython.core.display.HTML object>"
            ],
            "text/html": [
              " View project at <a href='https://wandb.ai/lennybijan/EMW%20Finetuning' target=\"_blank\">https://wandb.ai/lennybijan/EMW%20Finetuning</a>"
            ]
          },
          "metadata": {}
        },
        {
          "output_type": "display_data",
          "data": {
            "text/plain": [
              "<IPython.core.display.HTML object>"
            ],
            "text/html": [
              " View run at <a href='https://wandb.ai/lennybijan/EMW%20Finetuning/runs/y2va3o70' target=\"_blank\">https://wandb.ai/lennybijan/EMW%20Finetuning/runs/y2va3o70</a>"
            ]
          },
          "metadata": {}
        },
        {
          "output_type": "execute_result",
          "data": {
            "text/plain": [
              "FineTuningJob(id='ftjob-7WUzWKJR2CL8HD6TohH9QHXn', created_at=1714237264, error=Error(code=None, message=None, param=None), fine_tuned_model=None, finished_at=None, hyperparameters=Hyperparameters(n_epochs=8, batch_size='auto', learning_rate_multiplier=0.33), model='gpt-3.5-turbo-0125', object='fine_tuning.job', organization_id='org-HXmhQESDoBCnT302JZSEFxtU', result_files=[], seed=322019893, status='validating_files', trained_tokens=None, training_file='file-2VLWU9HF3I95bBIKwKA3dK9l', validation_file=None, integrations=[], user_provided_suffix=None, estimated_finish=None)"
            ]
          },
          "metadata": {},
          "execution_count": 12
        }
      ]
    }
  ],
  "metadata": {
    "colab": {
      "provenance": [],
      "mount_file_id": "1AEth3TdtrQE147e8vw0xmgrG40TLTpnW",
      "authorship_tag": "ABX9TyMXr6oB4JQM3gz1dCxJREBO",
      "include_colab_link": true
    },
    "kernelspec": {
      "display_name": "Python 3",
      "name": "python3"
    },
    "language_info": {
      "name": "python"
    },
    "widgets": {
      "application/vnd.jupyter.widget-state+json": {
        "60f54385404f497a9414a1c96cc55d2b": {
          "model_module": "@jupyter-widgets/controls",
          "model_name": "VBoxModel",
          "model_module_version": "1.5.0",
          "state": {
            "_dom_classes": [],
            "_model_module": "@jupyter-widgets/controls",
            "_model_module_version": "1.5.0",
            "_model_name": "VBoxModel",
            "_view_count": null,
            "_view_module": "@jupyter-widgets/controls",
            "_view_module_version": "1.5.0",
            "_view_name": "VBoxView",
            "box_style": "",
            "children": [
              "IPY_MODEL_38f3c450095b4faeb31550ad9e3313fd",
              "IPY_MODEL_1dc6dfd435094b458ae320919afd6a17"
            ],
            "layout": "IPY_MODEL_dea6913e2e804b2995f527003ab44ec4"
          }
        },
        "38f3c450095b4faeb31550ad9e3313fd": {
          "model_module": "@jupyter-widgets/controls",
          "model_name": "LabelModel",
          "model_module_version": "1.5.0",
          "state": {
            "_dom_classes": [],
            "_model_module": "@jupyter-widgets/controls",
            "_model_module_version": "1.5.0",
            "_model_name": "LabelModel",
            "_view_count": null,
            "_view_module": "@jupyter-widgets/controls",
            "_view_module_version": "1.5.0",
            "_view_name": "LabelView",
            "description": "",
            "description_tooltip": null,
            "layout": "IPY_MODEL_bdea30b330ab4c818dd51aa86036e61f",
            "placeholder": "​",
            "style": "IPY_MODEL_84ec9ec3162b4d8fa7b756b815189368",
            "value": "0.010 MB of 0.010 MB uploaded\r"
          }
        },
        "1dc6dfd435094b458ae320919afd6a17": {
          "model_module": "@jupyter-widgets/controls",
          "model_name": "FloatProgressModel",
          "model_module_version": "1.5.0",
          "state": {
            "_dom_classes": [],
            "_model_module": "@jupyter-widgets/controls",
            "_model_module_version": "1.5.0",
            "_model_name": "FloatProgressModel",
            "_view_count": null,
            "_view_module": "@jupyter-widgets/controls",
            "_view_module_version": "1.5.0",
            "_view_name": "ProgressView",
            "bar_style": "",
            "description": "",
            "description_tooltip": null,
            "layout": "IPY_MODEL_3953edff36fc446b9e41afbd3b2426b2",
            "max": 1,
            "min": 0,
            "orientation": "horizontal",
            "style": "IPY_MODEL_509013adb48d4a9e9bba5e0e1b5f7a78",
            "value": 1
          }
        },
        "dea6913e2e804b2995f527003ab44ec4": {
          "model_module": "@jupyter-widgets/base",
          "model_name": "LayoutModel",
          "model_module_version": "1.2.0",
          "state": {
            "_model_module": "@jupyter-widgets/base",
            "_model_module_version": "1.2.0",
            "_model_name": "LayoutModel",
            "_view_count": null,
            "_view_module": "@jupyter-widgets/base",
            "_view_module_version": "1.2.0",
            "_view_name": "LayoutView",
            "align_content": null,
            "align_items": null,
            "align_self": null,
            "border": null,
            "bottom": null,
            "display": null,
            "flex": null,
            "flex_flow": null,
            "grid_area": null,
            "grid_auto_columns": null,
            "grid_auto_flow": null,
            "grid_auto_rows": null,
            "grid_column": null,
            "grid_gap": null,
            "grid_row": null,
            "grid_template_areas": null,
            "grid_template_columns": null,
            "grid_template_rows": null,
            "height": null,
            "justify_content": null,
            "justify_items": null,
            "left": null,
            "margin": null,
            "max_height": null,
            "max_width": null,
            "min_height": null,
            "min_width": null,
            "object_fit": null,
            "object_position": null,
            "order": null,
            "overflow": null,
            "overflow_x": null,
            "overflow_y": null,
            "padding": null,
            "right": null,
            "top": null,
            "visibility": null,
            "width": null
          }
        },
        "bdea30b330ab4c818dd51aa86036e61f": {
          "model_module": "@jupyter-widgets/base",
          "model_name": "LayoutModel",
          "model_module_version": "1.2.0",
          "state": {
            "_model_module": "@jupyter-widgets/base",
            "_model_module_version": "1.2.0",
            "_model_name": "LayoutModel",
            "_view_count": null,
            "_view_module": "@jupyter-widgets/base",
            "_view_module_version": "1.2.0",
            "_view_name": "LayoutView",
            "align_content": null,
            "align_items": null,
            "align_self": null,
            "border": null,
            "bottom": null,
            "display": null,
            "flex": null,
            "flex_flow": null,
            "grid_area": null,
            "grid_auto_columns": null,
            "grid_auto_flow": null,
            "grid_auto_rows": null,
            "grid_column": null,
            "grid_gap": null,
            "grid_row": null,
            "grid_template_areas": null,
            "grid_template_columns": null,
            "grid_template_rows": null,
            "height": null,
            "justify_content": null,
            "justify_items": null,
            "left": null,
            "margin": null,
            "max_height": null,
            "max_width": null,
            "min_height": null,
            "min_width": null,
            "object_fit": null,
            "object_position": null,
            "order": null,
            "overflow": null,
            "overflow_x": null,
            "overflow_y": null,
            "padding": null,
            "right": null,
            "top": null,
            "visibility": null,
            "width": null
          }
        },
        "84ec9ec3162b4d8fa7b756b815189368": {
          "model_module": "@jupyter-widgets/controls",
          "model_name": "DescriptionStyleModel",
          "model_module_version": "1.5.0",
          "state": {
            "_model_module": "@jupyter-widgets/controls",
            "_model_module_version": "1.5.0",
            "_model_name": "DescriptionStyleModel",
            "_view_count": null,
            "_view_module": "@jupyter-widgets/base",
            "_view_module_version": "1.2.0",
            "_view_name": "StyleView",
            "description_width": ""
          }
        },
        "3953edff36fc446b9e41afbd3b2426b2": {
          "model_module": "@jupyter-widgets/base",
          "model_name": "LayoutModel",
          "model_module_version": "1.2.0",
          "state": {
            "_model_module": "@jupyter-widgets/base",
            "_model_module_version": "1.2.0",
            "_model_name": "LayoutModel",
            "_view_count": null,
            "_view_module": "@jupyter-widgets/base",
            "_view_module_version": "1.2.0",
            "_view_name": "LayoutView",
            "align_content": null,
            "align_items": null,
            "align_self": null,
            "border": null,
            "bottom": null,
            "display": null,
            "flex": null,
            "flex_flow": null,
            "grid_area": null,
            "grid_auto_columns": null,
            "grid_auto_flow": null,
            "grid_auto_rows": null,
            "grid_column": null,
            "grid_gap": null,
            "grid_row": null,
            "grid_template_areas": null,
            "grid_template_columns": null,
            "grid_template_rows": null,
            "height": null,
            "justify_content": null,
            "justify_items": null,
            "left": null,
            "margin": null,
            "max_height": null,
            "max_width": null,
            "min_height": null,
            "min_width": null,
            "object_fit": null,
            "object_position": null,
            "order": null,
            "overflow": null,
            "overflow_x": null,
            "overflow_y": null,
            "padding": null,
            "right": null,
            "top": null,
            "visibility": null,
            "width": null
          }
        },
        "509013adb48d4a9e9bba5e0e1b5f7a78": {
          "model_module": "@jupyter-widgets/controls",
          "model_name": "ProgressStyleModel",
          "model_module_version": "1.5.0",
          "state": {
            "_model_module": "@jupyter-widgets/controls",
            "_model_module_version": "1.5.0",
            "_model_name": "ProgressStyleModel",
            "_view_count": null,
            "_view_module": "@jupyter-widgets/base",
            "_view_module_version": "1.2.0",
            "_view_name": "StyleView",
            "bar_color": null,
            "description_width": ""
          }
        }
      }
    }
  },
  "nbformat": 4,
  "nbformat_minor": 0
}